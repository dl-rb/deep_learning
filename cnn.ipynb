{
  "nbformat": 4,
  "nbformat_minor": 0,
  "metadata": {
    "kernelspec": {
      "display_name": "Python 3",
      "language": "python",
      "name": "python3"
    },
    "language_info": {
      "codemirror_mode": {
        "name": "ipython",
        "version": 2
      },
      "file_extension": ".py",
      "mimetype": "text/x-python",
      "name": "python",
      "nbconvert_exporter": "python",
      "pygments_lexer": "ipython2",
      "version": "2.7.6"
    },
    "colab": {
      "name": "cnn.ipynb",
      "provenance": [],
      "collapsed_sections": []
    }
  },
  "cells": [
    {
      "cell_type": "markdown",
      "metadata": {
        "collapsed": true,
        "pycharm": {
          "name": "#%% md\n"
        },
        "id": "slwyY_lrhXiR",
        "colab_type": "text"
      },
      "source": [
        "### This jupyter notebook is for examination parameters in Convolution Neural Network\n"
      ]
    },
    {
      "cell_type": "markdown",
      "metadata": {
        "collapsed": false,
        "pycharm": {
          "name": "#%% md\n"
        },
        "id": "lhWD4xt2hXiS",
        "colab_type": "text"
      },
      "source": [
        "### Basic Neural Net\n",
        "- Input is an array of size `n` $a=[a_0, ..., a_{n-1}]$\n",
        "- Then multiple _Hidden Layers_. It could be hundreds of hidden layers. Each _node_ in a _hidden layer_ will have a set of parameters $w$ that maps to the previous layer nodes. For exapmle, each node $i$ in the first _hidden layer_ will have set of parameters $w_i = [w_{i,0}, ..., w_{i,n-1}]$\n",
        "- Output at node $i$ is $o_i = w_i\\times a$. Also, there will be a _bias_ $b_i$.\n",
        "    \n",
        "  $o_i = w_{i,0} \\times a_0 + w_{i,1}\\times a_1 + ... + w_{i,n-1} \\times a_{n-1} + b_i$\n",
        "  \n",
        "  So we have $n+1$ parameters for node $i$\n",
        "- Total we will have $k\\times (l+1)$ parameters for each _hidden layer_, where $k$ is the number of nodes in the current hidden layer, and $l$ is the number of nodes in the previous layer.\n",
        "- Usually after each output, there is an _activation function_. It is used to refine the output. \n",
        "- Learning is a process of adjusting the values of all parameter $w$ and bias $b$ in the network by using __Back Propagation__ (LeCun)."
      ]
    },
    {
      "cell_type": "markdown",
      "metadata": {
        "collapsed": false,
        "pycharm": {
          "name": "#%% md\n"
        },
        "id": "d5bkaGQZhXiT",
        "colab_type": "text"
      },
      "source": [
        "### Convolution Neural Net (CNN)\n",
        "CNN uses the concept of neural net, where the input is an image, and hidden layers are convolution layers.\n",
        "\n",
        "- For simplicity, we first look at an input image with single channel/black-white image, then move to multiple-channel image later.\n",
        "- Conv layer:\n",
        "    - A _kernel_ is a 2D mat\n",
        "    - Convolution is _dot product_ of the _kernel_ to a _moving window_ of image.\n",
        "    - Example: we have input image $A$ and kernel $K$ of size $2\\times2$\n",
        "        - First pixel of output image $ o_{1,1} = A_{1,1} * K_{1,1}+A_{1,2} * K_{1,2}+A_{2,1} * K_{2,1}+A_{2,2} * K_{2,2}$\n",
        "        - Second pixel of output image $ o_{1,2} = A_{1,2} * K_{1,1}+A_{1,3} * K_{1,2}+A_{2,2} * K_{2,1}+A_{2,3} * K_{2,2}$\n",
        "- CNN is a network that feeds an input image through multiple convolution layers to capture features of image.\n",
        "    - But, since each value of pixel in image is sensitive to the condition when the image is captured (sunny , cloudy, indoor, outdoor, etc...), kernels with fixed values are not sufficient to capture the features of different images. So we want to adjust the values of kernels by adding weights $w_K$ to each element of kernel $K$. The output image of a convolution now becomes:\n",
        "        - $o_{1,1} = w_{K,1}A_{1,1} K_{1,1} + w_{K,2}A_{1,2}K_{1,2} + w_{K,3}A_{2,1}K_{2,1} + w_{K,4}A_{2,2}K_{2,2}+w_{K,0}$\n",
        "        - $o_{1,2} = w_{K,1}A_{1,2}K_{1,1} + w_{K,2}A_{1,3}K_{1,2} + w_{K,3}A_{2,2}K_{2,1} + w_{K,4}A_{2,3}K_{2,2}+w_{K,0}$\n",
        "    - Total number of parameters for each kernel is $|w|= |kernel| + 1$. The addition one is for the bias $w_{K,0}$.\n",
        "    - For multiple-channel image, we cannot use a same set of $w$ for all channels in the image. For example in rgb image, r channel can capture different feature than blue channel. So we will need a different set of $w$ for each channel.\n",
        "    - Size of $w$ for multiple-channel image is $|w| = |kernel| \\times n_{channel} + 1$\n",
        "    - Each convolution layer will use different number of kernels. So the total parameters for each convolution layer is\n",
        "        $|w| = (|kernel| \\times n_{channel} + 1) \\times n_{kernel}$\n",
        "\n",
        "- Learning in CNN is the process of adjusting $w$ for each kernels so it can get desired output values."
      ]
    },
    {
      "cell_type": "markdown",
      "metadata": {
        "id": "V8PyAEcNod1z",
        "colab_type": "text"
      },
      "source": [
        "Let look at an example in tensorFlow."
      ]
    },
    {
      "cell_type": "code",
      "metadata": {
        "pycharm": {
          "name": "#%%\n"
        },
        "id": "bqzQPnphhXiT",
        "colab_type": "code",
        "colab": {
          "base_uri": "https://localhost:8080/",
          "height": 246
        },
        "outputId": "9dfab40b-be96-4f84-c074-f0cae4930ef7"
      },
      "source": [
        "import tensorflow as tf\n",
        "print('tensorFlow version',tf.__version__)\n",
        "\n",
        "from tensorflow.keras import layers, activations\n",
        "\n",
        "image_channel = 3   # rgb channels\n",
        "image_size = (20,20)\n",
        "img_shape = (*image_size, image_channel)\n",
        "model = tf.keras.Sequential()\n",
        "model.add(layers.Conv2D(filters=32,kernel_size=(5,5),activation=activations.relu, input_shape=img_shape))\n",
        "model.add(layers.Conv2D(filters=64,kernel_size=(5,5),activation=activations.relu, input_shape=img_shape))\n",
        "model.summary()"
      ],
      "execution_count": null,
      "outputs": [
        {
          "output_type": "stream",
          "text": [
            "tensorFlow version 2.2.0\n",
            "Model: \"sequential\"\n",
            "_________________________________________________________________\n",
            "Layer (type)                 Output Shape              Param #   \n",
            "=================================================================\n",
            "conv2d (Conv2D)              (None, 16, 16, 32)        2432      \n",
            "_________________________________________________________________\n",
            "conv2d_1 (Conv2D)            (None, 12, 12, 64)        51264     \n",
            "=================================================================\n",
            "Total params: 53,696\n",
            "Trainable params: 53,696\n",
            "Non-trainable params: 0\n",
            "_________________________________________________________________\n"
          ],
          "name": "stdout"
        }
      ]
    },
    {
      "cell_type": "markdown",
      "metadata": {
        "collapsed": false,
        "id": "YJEEZrKEhXiY",
        "colab_type": "text"
      },
      "source": [
        "For first layer of cnn:\n",
        "$|w| = (5\\times 5\\times 3 + 1)\\times 32 = 2432$\n",
        "\n",
        "Second layer: $|w| = (5\\times 5 \\times 32 + 1) \\times 64 = 51264$"
      ]
    },
    {
      "cell_type": "markdown",
      "metadata": {
        "collapsed": false,
        "pycharm": {
          "name": "#%% md\n"
        },
        "id": "UC5__jiBhXiY",
        "colab_type": "text"
      },
      "source": [
        "A CNN using handwritten dataset from _Keras_."
      ]
    },
    {
      "cell_type": "code",
      "metadata": {
        "pycharm": {
          "name": "#%%\n"
        },
        "id": "V4KTjoOxhXiZ",
        "colab_type": "code",
        "colab": {
          "base_uri": "https://localhost:8080/",
          "height": 298
        },
        "outputId": "307aa682-1b02-47bc-9d23-60614634e771"
      },
      "source": [
        "import matplotlib.pyplot as plt\n",
        "import numpy as np\n",
        "\n",
        "(train_imgs, train_labels),(test_imgs, test_labels) = tf.keras.datasets.mnist.load_data()\n",
        "\n",
        "# reshape 2d b/w img to 3d : (r,c) -> (r,c,1)\n",
        "if len(train_imgs.shape) == 3:\n",
        "    train_imgs = np.expand_dims(train_imgs, axis=3)\n",
        "    test_imgs = np.expand_dims(test_imgs, axis=3)\n",
        "\n",
        "sample_index = 10\n",
        "img = train_imgs[sample_index, :, :, 0]\n",
        "plt.imshow(img)\n",
        "plt.title('label {}'.format(train_labels[sample_index]))\n",
        "plt.show()\n",
        "img_shape = train_imgs.shape[1:]\n",
        "print('image size', img_shape)"
      ],
      "execution_count": null,
      "outputs": [
        {
          "output_type": "display_data",
          "data": {
            "image/png": "[encoded data removed]",
            "text/plain": [
              "<Figure size 432x288 with 1 Axes>"
            ]
          },
          "metadata": {
            "tags": [],
            "needs_background": "light"
          }
        },
        {
          "output_type": "stream",
          "text": [
            "image size (28, 28, 1)\n"
          ],
          "name": "stdout"
        }
      ]
    },
    {
      "cell_type": "code",
      "metadata": {
        "pycharm": {
          "name": "#%%\n"
        },
        "id": "9HFlVa_ihXib",
        "colab_type": "code",
        "colab": {
          "base_uri": "https://localhost:8080/",
          "height": 1000
        },
        "outputId": "91da4258-5793-4650-e3a9-896b0308578d"
      },
      "source": [
        "model = tf.keras.Sequential([\n",
        "    layers.Conv2D(32, (3,3),activation=activations.relu, input_shape=img_shape),\n",
        "    layers.MaxPool2D(),\n",
        "    layers.Conv2D(64, (3,3),activation='relu'),\n",
        "    layers.MaxPool2D(),\n",
        "    layers.Conv2D(64, (3,3), activation='relu'),\n",
        "    layers.Flatten(),\n",
        "    layers.Dense(100, activation=activations.relu),\n",
        "    # layers.Dense(100, activation=activations.relu),\n",
        "    layers.Dense(10, activation=activations.softmax)\n",
        "     ])\n",
        "\n",
        "model.summary()\n",
        "\n",
        "model.compile(optimizer='adam', loss=tf.keras.losses.SparseCategoricalCrossentropy(), metrics='accuracy')\n",
        "history = model.fit(train_imgs, train_labels, epochs=10, validation_data=(test_imgs, test_labels))\n",
        "\n",
        "plt.plot(history.history['accuracy'][-20:], label='train accuracy')\n",
        "plt.plot(history.history['val_accuracy'][-20:], label='test accuracy')\n",
        "plt.xlabel('epoch')\n",
        "plt.ylabel('accuracy')\n",
        "plt.legend(loc='lower right')\n",
        "plt.show()\n"
      ],
      "execution_count": null,
      "outputs": [
        {
          "output_type": "stream",
          "text": [
            "Model: \"sequential_2\"\n",
            "_________________________________________________________________\n",
            "Layer (type)                 Output Shape              Param #   \n",
            "=================================================================\n",
            "conv2d_5 (Conv2D)            (None, 26, 26, 32)        320       \n",
            "_________________________________________________________________\n",
            "max_pooling2d_2 (MaxPooling2 (None, 13, 13, 32)        0         \n",
            "_________________________________________________________________\n",
            "conv2d_6 (Conv2D)            (None, 11, 11, 64)        18496     \n",
            "_________________________________________________________________\n",
            "max_pooling2d_3 (MaxPooling2 (None, 5, 5, 64)          0         \n",
            "_________________________________________________________________\n",
            "conv2d_7 (Conv2D)            (None, 3, 3, 64)          36928     \n",
            "_________________________________________________________________\n",
            "flatten_1 (Flatten)          (None, 576)               0         \n",
            "_________________________________________________________________\n",
            "dense_2 (Dense)              (None, 100)               57700     \n",
            "_________________________________________________________________\n",
            "dense_3 (Dense)              (None, 10)                1010      \n",
            "=================================================================\n",
            "Total params: 114,454\n",
            "Trainable params: 114,454\n",
            "Non-trainable params: 0\n",
            "_________________________________________________________________\n",
            "Epoch 1/10\n",
            "1875/1875 [==============================] - 56s 30ms/step - loss: 0.1938 - accuracy: 0.9519 - val_loss: 0.0535 - val_accuracy: 0.9817\n",
            "Epoch 2/10\n",
            "1875/1875 [==============================] - 56s 30ms/step - loss: 0.0598 - accuracy: 0.9820 - val_loss: 0.0470 - val_accuracy: 0.9853\n",
            "Epoch 3/10\n",
            "1875/1875 [==============================] - 55s 29ms/step - loss: 0.0463 - accuracy: 0.9859 - val_loss: 0.0415 - val_accuracy: 0.9883\n",
            "Epoch 4/10\n",
            "1875/1875 [==============================] - 55s 29ms/step - loss: 0.0413 - accuracy: 0.9879 - val_loss: 0.0483 - val_accuracy: 0.9860\n",
            "Epoch 5/10\n",
            "1875/1875 [==============================] - 55s 30ms/step - loss: 0.0346 - accuracy: 0.9891 - val_loss: 0.0424 - val_accuracy: 0.9884\n",
            "Epoch 6/10\n",
            "1875/1875 [==============================] - 55s 30ms/step - loss: 0.0296 - accuracy: 0.9911 - val_loss: 0.0414 - val_accuracy: 0.9875\n",
            "Epoch 7/10\n",
            "1875/1875 [==============================] - 56s 30ms/step - loss: 0.0244 - accuracy: 0.9926 - val_loss: 0.0526 - val_accuracy: 0.9878\n",
            "Epoch 8/10\n",
            "1875/1875 [==============================] - 56s 30ms/step - loss: 0.0276 - accuracy: 0.9917 - val_loss: 0.0655 - val_accuracy: 0.9854\n",
            "Epoch 9/10\n",
            "1875/1875 [==============================] - 56s 30ms/step - loss: 0.0245 - accuracy: 0.9929 - val_loss: 0.0419 - val_accuracy: 0.9890\n",
            "Epoch 10/10\n",
            "1875/1875 [==============================] - 55s 29ms/step - loss: 0.0247 - accuracy: 0.9926 - val_loss: 0.0413 - val_accuracy: 0.9903\n"
          ],
          "name": "stdout"
        },
        {
          "output_type": "display_data",
          "data": {
            "image/png": "[encoded data removed]",
            "text/plain": [
              "<Figure size 432x288 with 1 Axes>"
            ]
          },
          "metadata": {
            "tags": [],
            "needs_background": "light"
          }
        }
      ]
    },
    {
      "cell_type": "code",
      "metadata": {
        "id": "Qla2ek7opPKN",
        "colab_type": "code",
        "colab": {
          "base_uri": "https://localhost:8080/",
          "height": 334
        },
        "outputId": "c294ae48-62f6-47a3-ea84-7e75f12a693e"
      },
      "source": [
        "index = 10\n",
        "img = test_imgs[index]\n",
        "plt.imshow(img[:,:,0])\n",
        "plt.title(test_labels[index])\n",
        "plt.show()\n",
        "# print(img.shape)\n",
        "# img = img.reshape(1,*img.shape)\n",
        "# print(img.shape)\n",
        "# pred = model.predict([img])\n",
        "# print('pred', pred.argmax())\n",
        "pred_all = model.predict(test_imgs)\n",
        "\n"
      ],
      "execution_count": null,
      "outputs": [
        {
          "output_type": "display_data",
          "data": {
            "image/png": "[encoded data removed]",
            "text/plain": [
              "<Figure size 432x288 with 1 Axes>"
            ]
          },
          "metadata": {
            "tags": [],
            "needs_background": "light"
          }
        },
        {
          "output_type": "stream",
          "text": [
            "[1.0000000e+00 8.2193381e-18 1.8811322e-12 4.5548367e-15 7.0409916e-13\n",
            " 1.5674511e-09 7.9921694e-12 8.4171000e-13 5.3410939e-11 1.3934517e-10]\n",
            "0\n"
          ],
          "name": "stdout"
        }
      ]
    },
    {
      "cell_type": "code",
      "metadata": {
        "id": "meMygPbvsMTM",
        "colab_type": "code",
        "colab": {
          "base_uri": "https://localhost:8080/",
          "height": 105
        },
        "outputId": "d601a591-56bc-4812-a5d0-280ee9f14157"
      },
      "source": [
        "pp = pred_all.argmax(axis=1)\n",
        "print(pred_all[index])\n",
        "print(pp[index])\n",
        "eq = pp == test_labels\n",
        "print(len(test_labels))\n",
        "print(sum(eq)/len(test_labels))"
      ],
      "execution_count": null,
      "outputs": [
        {
          "output_type": "stream",
          "text": [
            "[1.0000000e+00 8.2193381e-18 1.8811322e-12 4.5548367e-15 7.0409916e-13\n",
            " 1.5674511e-09 7.9921694e-12 8.4171000e-13 5.3410939e-11 1.3934517e-10]\n",
            "0\n",
            "10000\n",
            "0.9903\n"
          ],
          "name": "stdout"
        }
      ]
    },
    {
      "cell_type": "code",
      "metadata": {
        "id": "ASjL8TxZ-6Jc",
        "colab_type": "code",
        "colab": {
          "base_uri": "https://localhost:8080/",
          "height": 334
        },
        "outputId": "e3830846-b33f-4c58-b60c-78628cbaf6f6"
      },
      "source": [
        "neq = pp!=test_labels\n",
        "indexes = np.argwhere(neq==1)\n",
        "i = indexes[0][0]\n",
        "print(i)\n",
        "img = test_imgs[i,:,:,0]\n",
        "plt.imshow(img)\n",
        "plt.title('true {} - predict {}'.format(test_labels[i], pp[i]))\n",
        "print(pred_all[i])\n",
        "plt.show()\n",
        "\n",
        "# sample_index = 10\n",
        "# img = train_imgs[sample_index, :, :, 0]\n",
        "# plt.imshow(img)\n",
        "# plt.title('label {}'.format(train_labels[sample_index]))\n",
        "# plt.show()"
      ],
      "execution_count": null,
      "outputs": [
        {
          "output_type": "stream",
          "text": [
            "247\n",
            "[2.8885296e-07 3.5742135e-03 3.7032782e-04 2.9349867e-12 6.8554416e-04\n",
            " 4.0319543e-09 9.9535608e-01 3.4866481e-11 1.3538124e-05 2.6137917e-10]\n"
          ],
          "name": "stdout"
        },
        {
          "output_type": "display_data",
          "data": {
            "image/png": "[encoded data removed]",
            "text/plain": [
              "<Figure size 432x288 with 1 Axes>"
            ]
          },
          "metadata": {
            "tags": [],
            "needs_background": "light"
          }
        }
      ]
    }
  ]
}